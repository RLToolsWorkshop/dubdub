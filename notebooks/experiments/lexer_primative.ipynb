{
    "cells": [
        {
            "cell_type": "markdown",
            "source": [
                "# Tokenization and Lexer\n",
                "\n",
                "He're we're testing the creation of lexers and token primatives. By the end of the notebook we'll have:\n",
                "\n",
                "1. Simple tokenizer for sample Lox snippets (with no real logic).\n",
                "2. Simple tokens used for parser (scanner piece only).\n",
                "3. Base material for context-free grammar extraction."
            ],
            "metadata": {}
        },
        {
            "cell_type": "markdown",
            "source": [
                "# Import Tokenization Classes\n",
                "\n",
                "Import everything we'll be using to tokenize variables."
            ],
            "metadata": {}
        },
        {
            "cell_type": "code",
            "execution_count": 1,
            "source": [
                "from tokenize import tokenize\n",
                "from pathlib import Path"
            ],
            "outputs": [],
            "metadata": {}
        },
        {
            "cell_type": "code",
            "execution_count": 2,
            "source": [
                "def get_ddub():\n",
                "    book_folder = Path.cwd().parent\n",
                "    data_folder = book_folder / \"data\"\n",
                "    ddub_example_files = data_folder.glob('**/*.ddub')\n",
                "    return ddub_example_files"
            ],
            "outputs": [],
            "metadata": {}
        },
        {
            "cell_type": "code",
            "execution_count": 3,
            "source": [
                "for file in get_ddub():\n",
                "    print(file)"
            ],
            "outputs": [
                {
                    "output_type": "execute_result",
                    "data": {
                        "text/plain": [
                            "<generator object Path.glob at 0x7ff2a87054a0>"
                        ]
                    },
                    "metadata": {},
                    "execution_count": 3
                }
            ],
            "metadata": {}
        },
        {
            "cell_type": "code",
            "execution_count": null,
            "source": [],
            "outputs": [],
            "metadata": {}
        }
    ],
    "metadata": {
        "orig_nbformat": 4,
        "language_info": {
            "name": "python"
        }
    },
    "nbformat": 4,
    "nbformat_minor": 2
}