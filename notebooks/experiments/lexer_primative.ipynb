{
    "cells": [
        {
            "cell_type": "markdown",
            "source": [
                "# Tokenization and Lexer\n",
                "\n",
                "He're we're testing the creation of lexers and token primatives. By the end of the notebook we'll have:\n",
                "\n",
                "1. Simple tokenizer for sample Lox snippets (with no real logic).\n",
                "2. Simple tokens used for parser (scanner piece only).\n",
                "3. Base material for context-free grammar extraction."
            ],
            "metadata": {}
        },
        {
            "cell_type": "markdown",
            "source": [
                "# Import Tokenization Classes\n",
                "\n",
                "Import everything we'll be using to tokenize variables."
            ],
            "metadata": {}
        },
        {
            "cell_type": "code",
            "execution_count": 3,
            "source": [
                "from tokenize import tokenize\n",
                "from pathlib import Path"
            ],
            "outputs": [],
            "metadata": {}
        },
        {
            "cell_type": "code",
            "execution_count": 6,
            "source": [
                "def get_ddub():\n",
                "    book_folder = Path.cwd().parent\n",
                "    data_folder = book_folder / \"data\"\n",
                "    ddub_example_files = data_folder.glob('**/*.ddub')\n",
                "    return ddub_example_files"
            ],
            "outputs": [],
            "metadata": {}
        },
        {
            "cell_type": "code",
            "execution_count": 7,
            "source": [
                "get_ddub()"
            ],
            "outputs": [
                {
                    "output_type": "stream",
                    "name": "stdout",
                    "text": [
                        "/home/aguman/Software/CommunityProjects/dubdub/notebooks/data\n"
                    ]
                }
            ],
            "metadata": {}
        },
        {
            "cell_type": "code",
            "execution_count": null,
            "source": [],
            "outputs": [],
            "metadata": {}
        }
    ],
    "metadata": {
        "orig_nbformat": 4,
        "language_info": {
            "name": "python"
        }
    },
    "nbformat": 4,
    "nbformat_minor": 2
}