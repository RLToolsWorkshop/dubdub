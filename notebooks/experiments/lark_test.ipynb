{
    "cells": [
        {
            "cell_type": "code",
            "execution_count": 8,
            "source": [
                "from lark import Lark\n",
                "from rich import print\n",
                "from devtools import debug\n",
                "from pathlib import Path"
            ],
            "outputs": [],
            "metadata": {}
        },
        {
            "cell_type": "code",
            "execution_count": 9,
            "source": [
                "def get_data_folder() -> Path:\n",
                "    book_folder = Path.cwd().parent\n",
                "    data_folder = book_folder / \"data\"\n",
                "    return data_folder\n"
            ],
            "outputs": [],
            "metadata": {}
        },
        {
            "cell_type": "code",
            "execution_count": 10,
            "source": [
                "\n",
                "def get_ddub():\n",
                "    data_folder = get_data_folder()\n",
                "    ddub_example_files = data_folder.glob('**/*.ddub')\n",
                "    return ddub_example_files"
            ],
            "outputs": [],
            "metadata": {}
        },
        {
            "cell_type": "code",
            "execution_count": 12,
            "source": [
                "def get_grammar() -> Path:\n",
                "    return (get_data_folder() / \"dub_grammar.ebnf\")"
            ],
            "outputs": [],
            "metadata": {}
        },
        {
            "cell_type": "code",
            "execution_count": 22,
            "source": [
                "\n",
                "def grammy() -> str:\n",
                "    return get_grammar().read_text()\n"
            ],
            "outputs": [],
            "metadata": {}
        },
        {
            "cell_type": "markdown",
            "source": [
                "#  Import Lark logic\n",
                "\n",
                "Instead of doing the entire parsing manually (after running through the first chapter), it's advised to use a prebuilt parser instead. It'll save more time.\n",
                "\n",
                "1. Collect samples of the language.\n",
                "2. Try fitting the example (by copying the existing lark rules.)"
            ],
            "metadata": {}
        },
        {
            "cell_type": "code",
            "execution_count": 38,
            "source": [
                "grammy()"
            ],
            "outputs": [
                {
                    "output_type": "execute_result",
                    "data": {
                        "text/plain": [
                            "'?value: dict\\n    | list\\n    | ESCAPED_STRING\\n    | SIGNED_NUMBER -> number\\n    | \"true\" -> true\\n    | \"false\" -> false \\n    | \"null\" -> null\\n\\nlist : \"[\" [value (\",\" value)*] \"]\"\\n\\ndict : \"{\" [pair (\",\" pair)*] \"}\"\\npair : ESCAPED_STRING \":\" value\\n\\n%import common.ESCAPED_STRING\\n%import common.SIGNED_NUMBER\\n%import common.WS\\n%ignore WS\\n'"
                        ]
                    },
                    "metadata": {},
                    "execution_count": 38
                }
            ],
            "metadata": {}
        },
        {
            "cell_type": "code",
            "execution_count": 79,
            "source": [
                "json_parser = Lark(grammy(), parser=\"lalr\")\n",
                "\n",
                "# print(json_parser.parse(\"true;\").pretty())\n",
                "# print(json_parser.parse(\"false;\").pretty())\n",
                "# print(json_parser.parse(\"1234;\").pretty())\n",
                "print(json_parser.parse(\n",
                "\"\"\"\n",
                "var hello = 30;\n",
                "var poop = hello + 10;\n",
                "\"\"\").pretty())\n",
                "# print(json_parser.parse(text).pretty())\n",
                "# subtract - me;\n",
                "# multiply * me;\n",
                "# divide / me;\n"
            ],
            "outputs": [
                {
                    "output_type": "error",
                    "ename": "UnexpectedToken",
                    "evalue": "Unexpected token Token('NAME', 'hello') at line 3, column 1.\nExpected one of: \n\t* PRINT\n\t* IF\n\t* $END\n\t* VAR\nPrevious tokens: [Token('_NEWLINE', '\\n')]\n",
                    "traceback": [
                        "\u001b[0;31m---------------------------------------------------------------------------\u001b[0m",
                        "\u001b[0;31mUnexpectedCharacters\u001b[0m                      Traceback (most recent call last)",
                        "\u001b[0;32m~/Software/CommunityProjects/dubdub/.venv/lib/python3.9/site-packages/lark/lexer.py\u001b[0m in \u001b[0;36mlex\u001b[0;34m(self, lexer_state, parser_state)\u001b[0m\n\u001b[1;32m    457\u001b[0m                 \u001b[0mlexer\u001b[0m \u001b[0;34m=\u001b[0m \u001b[0mself\u001b[0m\u001b[0;34m.\u001b[0m\u001b[0mlexers\u001b[0m\u001b[0;34m[\u001b[0m\u001b[0mparser_state\u001b[0m\u001b[0;34m.\u001b[0m\u001b[0mposition\u001b[0m\u001b[0;34m]\u001b[0m\u001b[0;34m\u001b[0m\u001b[0;34m\u001b[0m\u001b[0m\n\u001b[0;32m--> 458\u001b[0;31m                 \u001b[0;32myield\u001b[0m \u001b[0mlexer\u001b[0m\u001b[0;34m.\u001b[0m\u001b[0mnext_token\u001b[0m\u001b[0;34m(\u001b[0m\u001b[0mlexer_state\u001b[0m\u001b[0;34m,\u001b[0m \u001b[0mparser_state\u001b[0m\u001b[0;34m)\u001b[0m\u001b[0;34m\u001b[0m\u001b[0;34m\u001b[0m\u001b[0m\n\u001b[0m\u001b[1;32m    459\u001b[0m         \u001b[0;32mexcept\u001b[0m \u001b[0mEOFError\u001b[0m\u001b[0;34m:\u001b[0m\u001b[0;34m\u001b[0m\u001b[0;34m\u001b[0m\u001b[0m\n",
                        "\u001b[0;32m~/Software/CommunityProjects/dubdub/.venv/lib/python3.9/site-packages/lark/lexer.py\u001b[0m in \u001b[0;36mnext_token\u001b[0;34m(self, lex_state, parser_state)\u001b[0m\n\u001b[1;32m    377\u001b[0m                     \u001b[0mallowed\u001b[0m \u001b[0;34m=\u001b[0m \u001b[0;34m{\u001b[0m\u001b[0;34m\"<END-OF-FILE>\"\u001b[0m\u001b[0;34m}\u001b[0m\u001b[0;34m\u001b[0m\u001b[0;34m\u001b[0m\u001b[0m\n\u001b[0;32m--> 378\u001b[0;31m                 raise UnexpectedCharacters(lex_state.text, line_ctr.char_pos, line_ctr.line, line_ctr.column,\n\u001b[0m\u001b[1;32m    379\u001b[0m                                            \u001b[0mallowed\u001b[0m\u001b[0;34m=\u001b[0m\u001b[0mallowed\u001b[0m\u001b[0;34m,\u001b[0m \u001b[0mtoken_history\u001b[0m\u001b[0;34m=\u001b[0m\u001b[0mlex_state\u001b[0m\u001b[0;34m.\u001b[0m\u001b[0mlast_token\u001b[0m \u001b[0;32mand\u001b[0m \u001b[0;34m[\u001b[0m\u001b[0mlex_state\u001b[0m\u001b[0;34m.\u001b[0m\u001b[0mlast_token\u001b[0m\u001b[0;34m]\u001b[0m\u001b[0;34m,\u001b[0m\u001b[0;34m\u001b[0m\u001b[0;34m\u001b[0m\u001b[0m\n",
                        "\u001b[0;31mUnexpectedCharacters\u001b[0m: No terminal matches 'h' in the current parser context, at line 3 col 1\n\nhello + 10;\n^\nExpected one of: \n\t* PRINT\n\t* RBRACE\n\t* VAR\n\t* IF\n\nPrevious tokens: Token('_NEWLINE', '\\n')\n",
                        "\nDuring handling of the above exception, another exception occurred:\n",
                        "\u001b[0;31mUnexpectedToken\u001b[0m                           Traceback (most recent call last)",
                        "\u001b[0;32m/tmp/ipykernel_2050529/1117256173.py\u001b[0m in \u001b[0;36m<module>\u001b[0;34m\u001b[0m\n\u001b[1;32m      4\u001b[0m \u001b[0;31m# print(json_parser.parse(\"false;\").pretty())\u001b[0m\u001b[0;34m\u001b[0m\u001b[0;34m\u001b[0m\u001b[0;34m\u001b[0m\u001b[0m\n\u001b[1;32m      5\u001b[0m \u001b[0;31m# print(json_parser.parse(\"1234;\").pretty())\u001b[0m\u001b[0;34m\u001b[0m\u001b[0;34m\u001b[0m\u001b[0;34m\u001b[0m\u001b[0m\n\u001b[0;32m----> 6\u001b[0;31m print(json_parser.parse(\n\u001b[0m\u001b[1;32m      7\u001b[0m \"\"\"\n\u001b[1;32m      8\u001b[0m \u001b[0mvar\u001b[0m \u001b[0mhello\u001b[0m \u001b[0;34m=\u001b[0m \u001b[0;36m30\u001b[0m\u001b[0;34m;\u001b[0m\u001b[0;34m\u001b[0m\u001b[0;34m\u001b[0m\u001b[0m\n",
                        "\u001b[0;32m~/Software/CommunityProjects/dubdub/.venv/lib/python3.9/site-packages/lark/lark.py\u001b[0m in \u001b[0;36mparse\u001b[0;34m(self, text, start, on_error)\u001b[0m\n\u001b[1;32m    559\u001b[0m \u001b[0;34m\u001b[0m\u001b[0m\n\u001b[1;32m    560\u001b[0m         \"\"\"\n\u001b[0;32m--> 561\u001b[0;31m         \u001b[0;32mreturn\u001b[0m \u001b[0mself\u001b[0m\u001b[0;34m.\u001b[0m\u001b[0mparser\u001b[0m\u001b[0;34m.\u001b[0m\u001b[0mparse\u001b[0m\u001b[0;34m(\u001b[0m\u001b[0mtext\u001b[0m\u001b[0;34m,\u001b[0m \u001b[0mstart\u001b[0m\u001b[0;34m=\u001b[0m\u001b[0mstart\u001b[0m\u001b[0;34m,\u001b[0m \u001b[0mon_error\u001b[0m\u001b[0;34m=\u001b[0m\u001b[0mon_error\u001b[0m\u001b[0;34m)\u001b[0m\u001b[0;34m\u001b[0m\u001b[0;34m\u001b[0m\u001b[0m\n\u001b[0m\u001b[1;32m    562\u001b[0m \u001b[0;34m\u001b[0m\u001b[0m\n\u001b[1;32m    563\u001b[0m     \u001b[0;34m@\u001b[0m\u001b[0mproperty\u001b[0m\u001b[0;34m\u001b[0m\u001b[0;34m\u001b[0m\u001b[0m\n",
                        "\u001b[0;32m~/Software/CommunityProjects/dubdub/.venv/lib/python3.9/site-packages/lark/parser_frontends.py\u001b[0m in \u001b[0;36mparse\u001b[0;34m(self, text, start, on_error)\u001b[0m\n\u001b[1;32m    105\u001b[0m         \u001b[0mstream\u001b[0m \u001b[0;34m=\u001b[0m \u001b[0mtext\u001b[0m \u001b[0;32mif\u001b[0m \u001b[0mself\u001b[0m\u001b[0;34m.\u001b[0m\u001b[0mskip_lexer\u001b[0m \u001b[0;32melse\u001b[0m \u001b[0mLexerThread\u001b[0m\u001b[0;34m(\u001b[0m\u001b[0mself\u001b[0m\u001b[0;34m.\u001b[0m\u001b[0mlexer\u001b[0m\u001b[0;34m,\u001b[0m \u001b[0mtext\u001b[0m\u001b[0;34m)\u001b[0m\u001b[0;34m\u001b[0m\u001b[0;34m\u001b[0m\u001b[0m\n\u001b[1;32m    106\u001b[0m         \u001b[0mkw\u001b[0m \u001b[0;34m=\u001b[0m \u001b[0;34m{\u001b[0m\u001b[0;34m}\u001b[0m \u001b[0;32mif\u001b[0m \u001b[0mon_error\u001b[0m \u001b[0;32mis\u001b[0m \u001b[0;32mNone\u001b[0m \u001b[0;32melse\u001b[0m \u001b[0;34m{\u001b[0m\u001b[0;34m'on_error'\u001b[0m\u001b[0;34m:\u001b[0m \u001b[0mon_error\u001b[0m\u001b[0;34m}\u001b[0m\u001b[0;34m\u001b[0m\u001b[0;34m\u001b[0m\u001b[0m\n\u001b[0;32m--> 107\u001b[0;31m         \u001b[0;32mreturn\u001b[0m \u001b[0mself\u001b[0m\u001b[0;34m.\u001b[0m\u001b[0mparser\u001b[0m\u001b[0;34m.\u001b[0m\u001b[0mparse\u001b[0m\u001b[0;34m(\u001b[0m\u001b[0mstream\u001b[0m\u001b[0;34m,\u001b[0m \u001b[0mstart\u001b[0m\u001b[0;34m,\u001b[0m \u001b[0;34m**\u001b[0m\u001b[0mkw\u001b[0m\u001b[0;34m)\u001b[0m\u001b[0;34m\u001b[0m\u001b[0;34m\u001b[0m\u001b[0m\n\u001b[0m\u001b[1;32m    108\u001b[0m \u001b[0;34m\u001b[0m\u001b[0m\n\u001b[1;32m    109\u001b[0m     \u001b[0;32mdef\u001b[0m \u001b[0mparse_interactive\u001b[0m\u001b[0;34m(\u001b[0m\u001b[0mself\u001b[0m\u001b[0;34m,\u001b[0m \u001b[0mtext\u001b[0m\u001b[0;34m=\u001b[0m\u001b[0;32mNone\u001b[0m\u001b[0;34m,\u001b[0m \u001b[0mstart\u001b[0m\u001b[0;34m=\u001b[0m\u001b[0;32mNone\u001b[0m\u001b[0;34m)\u001b[0m\u001b[0;34m:\u001b[0m\u001b[0;34m\u001b[0m\u001b[0;34m\u001b[0m\u001b[0m\n",
                        "\u001b[0;32m~/Software/CommunityProjects/dubdub/.venv/lib/python3.9/site-packages/lark/parsers/lalr_parser.py\u001b[0m in \u001b[0;36mparse\u001b[0;34m(self, lexer, start, on_error)\u001b[0m\n\u001b[1;32m     39\u001b[0m     \u001b[0;32mdef\u001b[0m \u001b[0mparse\u001b[0m\u001b[0;34m(\u001b[0m\u001b[0mself\u001b[0m\u001b[0;34m,\u001b[0m \u001b[0mlexer\u001b[0m\u001b[0;34m,\u001b[0m \u001b[0mstart\u001b[0m\u001b[0;34m,\u001b[0m \u001b[0mon_error\u001b[0m\u001b[0;34m=\u001b[0m\u001b[0;32mNone\u001b[0m\u001b[0;34m)\u001b[0m\u001b[0;34m:\u001b[0m\u001b[0;34m\u001b[0m\u001b[0;34m\u001b[0m\u001b[0m\n\u001b[1;32m     40\u001b[0m         \u001b[0;32mtry\u001b[0m\u001b[0;34m:\u001b[0m\u001b[0;34m\u001b[0m\u001b[0;34m\u001b[0m\u001b[0m\n\u001b[0;32m---> 41\u001b[0;31m             \u001b[0;32mreturn\u001b[0m \u001b[0mself\u001b[0m\u001b[0;34m.\u001b[0m\u001b[0mparser\u001b[0m\u001b[0;34m.\u001b[0m\u001b[0mparse\u001b[0m\u001b[0;34m(\u001b[0m\u001b[0mlexer\u001b[0m\u001b[0;34m,\u001b[0m \u001b[0mstart\u001b[0m\u001b[0;34m)\u001b[0m\u001b[0;34m\u001b[0m\u001b[0;34m\u001b[0m\u001b[0m\n\u001b[0m\u001b[1;32m     42\u001b[0m         \u001b[0;32mexcept\u001b[0m \u001b[0mUnexpectedInput\u001b[0m \u001b[0;32mas\u001b[0m \u001b[0me\u001b[0m\u001b[0;34m:\u001b[0m\u001b[0;34m\u001b[0m\u001b[0;34m\u001b[0m\u001b[0m\n\u001b[1;32m     43\u001b[0m             \u001b[0;32mif\u001b[0m \u001b[0mon_error\u001b[0m \u001b[0;32mis\u001b[0m \u001b[0;32mNone\u001b[0m\u001b[0;34m:\u001b[0m\u001b[0;34m\u001b[0m\u001b[0;34m\u001b[0m\u001b[0m\n",
                        "\u001b[0;32m~/Software/CommunityProjects/dubdub/.venv/lib/python3.9/site-packages/lark/parsers/lalr_parser.py\u001b[0m in \u001b[0;36mparse\u001b[0;34m(self, lexer, start, value_stack, state_stack, start_interactive)\u001b[0m\n\u001b[1;32m    169\u001b[0m         \u001b[0;32mif\u001b[0m \u001b[0mstart_interactive\u001b[0m\u001b[0;34m:\u001b[0m\u001b[0;34m\u001b[0m\u001b[0;34m\u001b[0m\u001b[0m\n\u001b[1;32m    170\u001b[0m             \u001b[0;32mreturn\u001b[0m \u001b[0mInteractiveParser\u001b[0m\u001b[0;34m(\u001b[0m\u001b[0mself\u001b[0m\u001b[0;34m,\u001b[0m \u001b[0mparser_state\u001b[0m\u001b[0;34m,\u001b[0m \u001b[0mparser_state\u001b[0m\u001b[0;34m.\u001b[0m\u001b[0mlexer\u001b[0m\u001b[0;34m)\u001b[0m\u001b[0;34m\u001b[0m\u001b[0;34m\u001b[0m\u001b[0m\n\u001b[0;32m--> 171\u001b[0;31m         \u001b[0;32mreturn\u001b[0m \u001b[0mself\u001b[0m\u001b[0;34m.\u001b[0m\u001b[0mparse_from_state\u001b[0m\u001b[0;34m(\u001b[0m\u001b[0mparser_state\u001b[0m\u001b[0;34m)\u001b[0m\u001b[0;34m\u001b[0m\u001b[0;34m\u001b[0m\u001b[0m\n\u001b[0m\u001b[1;32m    172\u001b[0m \u001b[0;34m\u001b[0m\u001b[0m\n\u001b[1;32m    173\u001b[0m \u001b[0;34m\u001b[0m\u001b[0m\n",
                        "\u001b[0;32m~/Software/CommunityProjects/dubdub/.venv/lib/python3.9/site-packages/lark/parsers/lalr_parser.py\u001b[0m in \u001b[0;36mparse_from_state\u001b[0;34m(self, state)\u001b[0m\n\u001b[1;32m    186\u001b[0m             \u001b[0;32mexcept\u001b[0m \u001b[0mNameError\u001b[0m\u001b[0;34m:\u001b[0m\u001b[0;34m\u001b[0m\u001b[0;34m\u001b[0m\u001b[0m\n\u001b[1;32m    187\u001b[0m                 \u001b[0;32mpass\u001b[0m\u001b[0;34m\u001b[0m\u001b[0;34m\u001b[0m\u001b[0m\n\u001b[0;32m--> 188\u001b[0;31m             \u001b[0;32mraise\u001b[0m \u001b[0me\u001b[0m\u001b[0;34m\u001b[0m\u001b[0;34m\u001b[0m\u001b[0m\n\u001b[0m\u001b[1;32m    189\u001b[0m         \u001b[0;32mexcept\u001b[0m \u001b[0mException\u001b[0m \u001b[0;32mas\u001b[0m \u001b[0me\u001b[0m\u001b[0;34m:\u001b[0m\u001b[0;34m\u001b[0m\u001b[0;34m\u001b[0m\u001b[0m\n\u001b[1;32m    190\u001b[0m             \u001b[0;32mif\u001b[0m \u001b[0mself\u001b[0m\u001b[0;34m.\u001b[0m\u001b[0mdebug\u001b[0m\u001b[0;34m:\u001b[0m\u001b[0;34m\u001b[0m\u001b[0;34m\u001b[0m\u001b[0m\n",
                        "\u001b[0;32m~/Software/CommunityProjects/dubdub/.venv/lib/python3.9/site-packages/lark/parsers/lalr_parser.py\u001b[0m in \u001b[0;36mparse_from_state\u001b[0;34m(self, state)\u001b[0m\n\u001b[1;32m    176\u001b[0m         \u001b[0;32mtry\u001b[0m\u001b[0;34m:\u001b[0m\u001b[0;34m\u001b[0m\u001b[0;34m\u001b[0m\u001b[0m\n\u001b[1;32m    177\u001b[0m             \u001b[0mtoken\u001b[0m \u001b[0;34m=\u001b[0m \u001b[0;32mNone\u001b[0m\u001b[0;34m\u001b[0m\u001b[0;34m\u001b[0m\u001b[0m\n\u001b[0;32m--> 178\u001b[0;31m             \u001b[0;32mfor\u001b[0m \u001b[0mtoken\u001b[0m \u001b[0;32min\u001b[0m \u001b[0mstate\u001b[0m\u001b[0;34m.\u001b[0m\u001b[0mlexer\u001b[0m\u001b[0;34m.\u001b[0m\u001b[0mlex\u001b[0m\u001b[0;34m(\u001b[0m\u001b[0mstate\u001b[0m\u001b[0;34m)\u001b[0m\u001b[0;34m:\u001b[0m\u001b[0;34m\u001b[0m\u001b[0;34m\u001b[0m\u001b[0m\n\u001b[0m\u001b[1;32m    179\u001b[0m                 \u001b[0mstate\u001b[0m\u001b[0;34m.\u001b[0m\u001b[0mfeed_token\u001b[0m\u001b[0;34m(\u001b[0m\u001b[0mtoken\u001b[0m\u001b[0;34m)\u001b[0m\u001b[0;34m\u001b[0m\u001b[0;34m\u001b[0m\u001b[0m\n\u001b[1;32m    180\u001b[0m \u001b[0;34m\u001b[0m\u001b[0m\n",
                        "\u001b[0;32m~/Software/CommunityProjects/dubdub/.venv/lib/python3.9/site-packages/lark/lexer.py\u001b[0m in \u001b[0;36mlex\u001b[0;34m(self, lexer_state, parser_state)\u001b[0m\n\u001b[1;32m    465\u001b[0m                 \u001b[0mlast_token\u001b[0m \u001b[0;34m=\u001b[0m \u001b[0mlexer_state\u001b[0m\u001b[0;34m.\u001b[0m\u001b[0mlast_token\u001b[0m  \u001b[0;31m# Save last_token. Calling root_lexer.next_token will change this to the wrong token\u001b[0m\u001b[0;34m\u001b[0m\u001b[0;34m\u001b[0m\u001b[0m\n\u001b[1;32m    466\u001b[0m                 \u001b[0mtoken\u001b[0m \u001b[0;34m=\u001b[0m \u001b[0mself\u001b[0m\u001b[0;34m.\u001b[0m\u001b[0mroot_lexer\u001b[0m\u001b[0;34m.\u001b[0m\u001b[0mnext_token\u001b[0m\u001b[0;34m(\u001b[0m\u001b[0mlexer_state\u001b[0m\u001b[0;34m,\u001b[0m \u001b[0mparser_state\u001b[0m\u001b[0;34m)\u001b[0m\u001b[0;34m\u001b[0m\u001b[0;34m\u001b[0m\u001b[0m\n\u001b[0;32m--> 467\u001b[0;31m                 \u001b[0;32mraise\u001b[0m \u001b[0mUnexpectedToken\u001b[0m\u001b[0;34m(\u001b[0m\u001b[0mtoken\u001b[0m\u001b[0;34m,\u001b[0m \u001b[0me\u001b[0m\u001b[0;34m.\u001b[0m\u001b[0mallowed\u001b[0m\u001b[0;34m,\u001b[0m \u001b[0mstate\u001b[0m\u001b[0;34m=\u001b[0m\u001b[0mparser_state\u001b[0m\u001b[0;34m,\u001b[0m \u001b[0mtoken_history\u001b[0m\u001b[0;34m=\u001b[0m\u001b[0;34m[\u001b[0m\u001b[0mlast_token\u001b[0m\u001b[0;34m]\u001b[0m\u001b[0;34m,\u001b[0m \u001b[0mterminals_by_name\u001b[0m\u001b[0;34m=\u001b[0m\u001b[0mself\u001b[0m\u001b[0;34m.\u001b[0m\u001b[0mroot_lexer\u001b[0m\u001b[0;34m.\u001b[0m\u001b[0mterminals_by_name\u001b[0m\u001b[0;34m)\u001b[0m\u001b[0;34m\u001b[0m\u001b[0;34m\u001b[0m\u001b[0m\n\u001b[0m\u001b[1;32m    468\u001b[0m             \u001b[0;32mexcept\u001b[0m \u001b[0mUnexpectedCharacters\u001b[0m\u001b[0;34m:\u001b[0m\u001b[0;34m\u001b[0m\u001b[0;34m\u001b[0m\u001b[0m\n\u001b[1;32m    469\u001b[0m                 \u001b[0;32mraise\u001b[0m \u001b[0me\u001b[0m  \u001b[0;31m# Raise the original UnexpectedCharacters. The root lexer raises it with the wrong expected set.\u001b[0m\u001b[0;34m\u001b[0m\u001b[0;34m\u001b[0m\u001b[0m\n",
                        "\u001b[0;31mUnexpectedToken\u001b[0m: Unexpected token Token('NAME', 'hello') at line 3, column 1.\nExpected one of: \n\t* PRINT\n\t* IF\n\t* $END\n\t* VAR\nPrevious tokens: [Token('_NEWLINE', '\\n')]\n"
                    ]
                }
            ],
            "metadata": {}
        },
        {
            "cell_type": "code",
            "execution_count": 55,
            "source": [],
            "outputs": [
                {
                    "output_type": "display_data",
                    "data": {
                        "text/plain": [
                            "start\n",
                            "  end_rule\n",
                            "    true\n",
                            "\n"
                        ],
                        "text/html": [
                            "<pre style=\"white-space:pre;overflow-x:auto;line-height:normal;font-family:Menlo,'DejaVu Sans Mono',consolas,'Courier New',monospace\">start\n",
                            "  end_rule\n",
                            "    true\n",
                            "\n",
                            "</pre>\n"
                        ]
                    },
                    "metadata": {}
                }
            ],
            "metadata": {}
        },
        {
            "cell_type": "code",
            "execution_count": 44,
            "source": [
                "\n",
                "# for file in get_ddub():\n",
                "#     print(file.read_text())\n",
                "    # print(json_parser.parse(file.read_text()).pretty())"
            ],
            "outputs": [
                {
                    "output_type": "display_data",
                    "data": {
                        "text/plain": [
                            "true;  \u001b[35m/\u001b[0m\u001b[35m/\u001b[0m Not false.\n",
                            "false; \u001b[35m/\u001b[0m\u001b[35m/\u001b[0m Not *not* false.\n",
                            "\n",
                            "\u001b[1;36m1234\u001b[0m;  \u001b[35m/\u001b[0m\u001b[35m/\u001b[0m An integer.\n",
                            "\u001b[1;36m12.34\u001b[0m; \u001b[35m/\u001b[0m\u001b[35m/\u001b[0m A decimal number.\n",
                            "\n",
                            "\u001b[32m\"I am a string\"\u001b[0m;\n",
                            "\u001b[32m\"\"\u001b[0m;    \u001b[35m/\u001b[0m\u001b[35m/\u001b[0m The empty string.\n",
                            "\u001b[32m\"123\"\u001b[0m; \u001b[35m/\u001b[0m\u001b[35m/\u001b[0m This is a string, not a number.\n"
                        ],
                        "text/html": [
                            "<pre style=\"white-space:pre;overflow-x:auto;line-height:normal;font-family:Menlo,'DejaVu Sans Mono',consolas,'Courier New',monospace\">true;  <span style=\"color: #800080; text-decoration-color: #800080\">//</span> Not false.\n",
                            "false; <span style=\"color: #800080; text-decoration-color: #800080\">//</span> Not *not* false.\n",
                            "\n",
                            "<span style=\"color: #008080; text-decoration-color: #008080; font-weight: bold\">1234</span>;  <span style=\"color: #800080; text-decoration-color: #800080\">//</span> An integer.\n",
                            "<span style=\"color: #008080; text-decoration-color: #008080; font-weight: bold\">12.34</span>; <span style=\"color: #800080; text-decoration-color: #800080\">//</span> A decimal number.\n",
                            "\n",
                            "<span style=\"color: #008000; text-decoration-color: #008000\">\"I am a string\"</span>;\n",
                            "<span style=\"color: #008000; text-decoration-color: #008000\">\"\"</span>;    <span style=\"color: #800080; text-decoration-color: #800080\">//</span> The empty string.\n",
                            "<span style=\"color: #008000; text-decoration-color: #008000\">\"123\"</span>; <span style=\"color: #800080; text-decoration-color: #800080\">//</span> This is a string, not a number.\n",
                            "</pre>\n"
                        ]
                    },
                    "metadata": {}
                },
                {
                    "output_type": "display_data",
                    "data": {
                        "text/plain": [
                            "for \u001b[1m(\u001b[0mvar a = \u001b[1;36m1\u001b[0m; a < \u001b[1;36m10\u001b[0m; a = a + \u001b[1;36m1\u001b[0m\u001b[1m)\u001b[0m \u001b[1m{\u001b[0m\n",
                            "    print a;\n",
                            "\u001b[1m}\u001b[0m\n"
                        ],
                        "text/html": [
                            "<pre style=\"white-space:pre;overflow-x:auto;line-height:normal;font-family:Menlo,'DejaVu Sans Mono',consolas,'Courier New',monospace\">for <span style=\"font-weight: bold\">(</span>var a = <span style=\"color: #008080; text-decoration-color: #008080; font-weight: bold\">1</span>; a &lt; <span style=\"color: #008080; text-decoration-color: #008080; font-weight: bold\">10</span>; a = a + <span style=\"color: #008080; text-decoration-color: #008080; font-weight: bold\">1</span><span style=\"font-weight: bold\">)</span> <span style=\"font-weight: bold\">{</span>\n",
                            "    print a;\n",
                            "<span style=\"font-weight: bold\">}</span>\n",
                            "</pre>\n"
                        ]
                    },
                    "metadata": {}
                },
                {
                    "output_type": "display_data",
                    "data": {
                        "text/plain": [
                            "var a = \u001b[1;36m1\u001b[0m;\n",
                            "while \u001b[1m(\u001b[0ma < \u001b[1;36m10\u001b[0m\u001b[1m)\u001b[0m \u001b[1m{\u001b[0m\n",
                            "  print a;\n",
                            "  a = a + \u001b[1;36m1\u001b[0m;\n",
                            "\u001b[1m}\u001b[0m\n"
                        ],
                        "text/html": [
                            "<pre style=\"white-space:pre;overflow-x:auto;line-height:normal;font-family:Menlo,'DejaVu Sans Mono',consolas,'Courier New',monospace\">var a = <span style=\"color: #008080; text-decoration-color: #008080; font-weight: bold\">1</span>;\n",
                            "while <span style=\"font-weight: bold\">(</span>a &lt; <span style=\"color: #008080; text-decoration-color: #008080; font-weight: bold\">10</span><span style=\"font-weight: bold\">)</span> <span style=\"font-weight: bold\">{</span>\n",
                            "  print a;\n",
                            "  a = a + <span style=\"color: #008080; text-decoration-color: #008080; font-weight: bold\">1</span>;\n",
                            "<span style=\"font-weight: bold\">}</span>\n",
                            "</pre>\n"
                        ]
                    },
                    "metadata": {}
                }
            ],
            "metadata": {}
        },
        {
            "cell_type": "code",
            "execution_count": null,
            "source": [
                "true;  // Not false.\n",
                "false; // Not *not* false."
            ],
            "outputs": [],
            "metadata": {}
        }
    ],
    "metadata": {
        "orig_nbformat": 4,
        "language_info": {
            "name": "python"
        }
    },
    "nbformat": 4,
    "nbformat_minor": 2
}